{
 "cells": [
  {
   "cell_type": "code",
   "execution_count": 44,
   "id": "ac55c862",
   "metadata": {
    "scrolled": true
   },
   "outputs": [],
   "source": [
    "from langdetect import DetectorFactory, detect, detect_langs\n",
    "\"\"\"from offres import request_offers\"\"\"\n",
    "import pandas as pd"
   ]
  },
  {
   "cell_type": "code",
   "execution_count": 9,
   "id": "298a4a14",
   "metadata": {},
   "outputs": [
    {
     "data": {
      "text/html": [
       "<div>\n",
       "<style scoped>\n",
       "    .dataframe tbody tr th:only-of-type {\n",
       "        vertical-align: middle;\n",
       "    }\n",
       "\n",
       "    .dataframe tbody tr th {\n",
       "        vertical-align: top;\n",
       "    }\n",
       "\n",
       "    .dataframe thead th {\n",
       "        text-align: right;\n",
       "    }\n",
       "</style>\n",
       "<table border=\"1\" class=\"dataframe\">\n",
       "  <thead>\n",
       "    <tr style=\"text-align: right;\">\n",
       "      <th></th>\n",
       "      <th>id</th>\n",
       "      <th>premise</th>\n",
       "      <th>hypothesis</th>\n",
       "      <th>lang_abv</th>\n",
       "      <th>language</th>\n",
       "    </tr>\n",
       "  </thead>\n",
       "  <tbody>\n",
       "    <tr>\n",
       "      <th>0</th>\n",
       "      <td>c6d58c3f69</td>\n",
       "      <td>بکس، کیسی، راہیل، یسعیاہ، کیلی، کیلی، اور کولم...</td>\n",
       "      <td>کیسی کے لئے کوئی یادگار نہیں ہوگا, کولمین ہائی...</td>\n",
       "      <td>ur</td>\n",
       "      <td>Urdu</td>\n",
       "    </tr>\n",
       "    <tr>\n",
       "      <th>1</th>\n",
       "      <td>cefcc82292</td>\n",
       "      <td>هذا هو ما تم نصحنا به.</td>\n",
       "      <td>عندما يتم إخبارهم بما يجب عليهم فعله ، فشلت ال...</td>\n",
       "      <td>ar</td>\n",
       "      <td>Arabic</td>\n",
       "    </tr>\n",
       "    <tr>\n",
       "      <th>2</th>\n",
       "      <td>e98005252c</td>\n",
       "      <td>et cela est en grande partie dû au fait que le...</td>\n",
       "      <td>Les mères se droguent.</td>\n",
       "      <td>fr</td>\n",
       "      <td>French</td>\n",
       "    </tr>\n",
       "    <tr>\n",
       "      <th>3</th>\n",
       "      <td>58518c10ba</td>\n",
       "      <td>与城市及其他公民及社区组织代表就IMA的艺术发展进行对话&amp;amp</td>\n",
       "      <td>IMA与其他组织合作，因为它们都依靠共享资金。</td>\n",
       "      <td>zh</td>\n",
       "      <td>Chinese</td>\n",
       "    </tr>\n",
       "    <tr>\n",
       "      <th>4</th>\n",
       "      <td>c32b0d16df</td>\n",
       "      <td>Она все еще была там.</td>\n",
       "      <td>Мы думали, что она ушла, однако, она осталась.</td>\n",
       "      <td>ru</td>\n",
       "      <td>Russian</td>\n",
       "    </tr>\n",
       "    <tr>\n",
       "      <th>...</th>\n",
       "      <td>...</td>\n",
       "      <td>...</td>\n",
       "      <td>...</td>\n",
       "      <td>...</td>\n",
       "      <td>...</td>\n",
       "    </tr>\n",
       "    <tr>\n",
       "      <th>5190</th>\n",
       "      <td>5f90dd59b0</td>\n",
       "      <td>نیند نے وعدہ کیا کہ موٹل نے سوال میں تحقیق کی.</td>\n",
       "      <td>نیمیتھ کو موٹل کی تفتیش کے لئے معاوضہ دیا جارہ...</td>\n",
       "      <td>ur</td>\n",
       "      <td>Urdu</td>\n",
       "    </tr>\n",
       "    <tr>\n",
       "      <th>5191</th>\n",
       "      <td>f357a04e86</td>\n",
       "      <td>The  rock  has a soft texture and can be bough...</td>\n",
       "      <td>The rock is harder than most types of rock.</td>\n",
       "      <td>en</td>\n",
       "      <td>English</td>\n",
       "    </tr>\n",
       "    <tr>\n",
       "      <th>5192</th>\n",
       "      <td>1f0ea92118</td>\n",
       "      <td>她目前的存在，并考虑到他与沃佛斯顿争执的本质，那是尴尬的。</td>\n",
       "      <td>她在与Wolverstone的打斗结束后才在场的事实被看作是很尴尬的。</td>\n",
       "      <td>zh</td>\n",
       "      <td>Chinese</td>\n",
       "    </tr>\n",
       "    <tr>\n",
       "      <th>5193</th>\n",
       "      <td>0407b48afb</td>\n",
       "      <td>isn't it i can remember i've only been here ei...</td>\n",
       "      <td>I could see downtown Dallas from where I lived...</td>\n",
       "      <td>en</td>\n",
       "      <td>English</td>\n",
       "    </tr>\n",
       "    <tr>\n",
       "      <th>5194</th>\n",
       "      <td>16c2f2ab89</td>\n",
       "      <td>In Hong Kong you can have a plate, or even a w...</td>\n",
       "      <td>It's impossible to have a plate hand-painted t...</td>\n",
       "      <td>en</td>\n",
       "      <td>English</td>\n",
       "    </tr>\n",
       "  </tbody>\n",
       "</table>\n",
       "<p>5195 rows × 5 columns</p>\n",
       "</div>"
      ],
      "text/plain": [
       "              id                                            premise  \\\n",
       "0     c6d58c3f69  بکس، کیسی، راہیل، یسعیاہ، کیلی، کیلی، اور کولم...   \n",
       "1     cefcc82292                             هذا هو ما تم نصحنا به.   \n",
       "2     e98005252c  et cela est en grande partie dû au fait que le...   \n",
       "3     58518c10ba                   与城市及其他公民及社区组织代表就IMA的艺术发展进行对话&amp   \n",
       "4     c32b0d16df                              Она все еще была там.   \n",
       "...          ...                                                ...   \n",
       "5190  5f90dd59b0     نیند نے وعدہ کیا کہ موٹل نے سوال میں تحقیق کی.   \n",
       "5191  f357a04e86  The  rock  has a soft texture and can be bough...   \n",
       "5192  1f0ea92118                      她目前的存在，并考虑到他与沃佛斯顿争执的本质，那是尴尬的。   \n",
       "5193  0407b48afb  isn't it i can remember i've only been here ei...   \n",
       "5194  16c2f2ab89  In Hong Kong you can have a plate, or even a w...   \n",
       "\n",
       "                                             hypothesis lang_abv language  \n",
       "0     کیسی کے لئے کوئی یادگار نہیں ہوگا, کولمین ہائی...       ur     Urdu  \n",
       "1     عندما يتم إخبارهم بما يجب عليهم فعله ، فشلت ال...       ar   Arabic  \n",
       "2                                Les mères se droguent.       fr   French  \n",
       "3                               IMA与其他组织合作，因为它们都依靠共享资金。       zh  Chinese  \n",
       "4        Мы думали, что она ушла, однако, она осталась.       ru  Russian  \n",
       "...                                                 ...      ...      ...  \n",
       "5190  نیمیتھ کو موٹل کی تفتیش کے لئے معاوضہ دیا جارہ...       ur     Urdu  \n",
       "5191        The rock is harder than most types of rock.       en  English  \n",
       "5192                她在与Wolverstone的打斗结束后才在场的事实被看作是很尴尬的。       zh  Chinese  \n",
       "5193  I could see downtown Dallas from where I lived...       en  English  \n",
       "5194  It's impossible to have a plate hand-painted t...       en  English  \n",
       "\n",
       "[5195 rows x 5 columns]"
      ]
     },
     "execution_count": 9,
     "metadata": {},
     "output_type": "execute_result"
    }
   ],
   "source": [
    "df = pd.read_csv(\"test.csv\")\n",
    "df"
   ]
  },
  {
   "cell_type": "code",
   "execution_count": 45,
   "id": "fde0ccd0",
   "metadata": {},
   "outputs": [
    {
     "data": {
      "text/plain": [
       "<__main__.offers at 0x7fada4b87070>"
      ]
     },
     "execution_count": 45,
     "metadata": {},
     "output_type": "execute_result"
    }
   ],
   "source": [
    "# Detecting the language and creating column of the language detected\n",
    "class offers:\n",
    "\n",
    "    def language_detect(x):\n",
    "        lang = detect(x)\n",
    "        return lang\n",
    "\n",
    "    df['l_detect'] = df['premise'].apply(language_detect)\n",
    "\n",
    "offers()"
   ]
  },
  {
   "cell_type": "code",
   "execution_count": 46,
   "id": "91bfeeb4",
   "metadata": {},
   "outputs": [
    {
     "data": {
      "text/plain": [
       "en       2853\n",
       "es        173\n",
       "sw        173\n",
       "fr        171\n",
       "tr        171\n",
       "ru        169\n",
       "el        167\n",
       "th        164\n",
       "ur        162\n",
       "ar        158\n",
       "de        153\n",
       "bg        150\n",
       "vi        149\n",
       "hi        145\n",
       "zh-cn     134\n",
       "af         13\n",
       "id         12\n",
       "no         10\n",
       "cy          7\n",
       "nl          7\n",
       "so          7\n",
       "et          6\n",
       "ca          6\n",
       "hr          5\n",
       "ko          5\n",
       "it          4\n",
       "pt          3\n",
       "mk          3\n",
       "sl          3\n",
       "sv          3\n",
       "tl          2\n",
       "cs          2\n",
       "da          2\n",
       "sk          1\n",
       "lv          1\n",
       "pl          1\n",
       "Name: l_detect, dtype: int64"
      ]
     },
     "execution_count": 46,
     "metadata": {},
     "output_type": "execute_result"
    }
   ],
   "source": [
    "df['l_detect'].value_counts()"
   ]
  },
  {
   "cell_type": "code",
   "execution_count": 47,
   "id": "352312f1",
   "metadata": {},
   "outputs": [
    {
     "data": {
      "text/plain": [
       "pandas.core.series.Series"
      ]
     },
     "execution_count": 47,
     "metadata": {},
     "output_type": "execute_result"
    }
   ],
   "source": [
    "X = df.drop([\"lang_abv\", \"language\", \"id\"], axis= 1)\n",
    "y = df[\"lang_abv\"]\n",
    "\n",
    "type(X['premise'])"
   ]
  },
  {
   "cell_type": "code",
   "execution_count": 51,
   "id": "d25f10b7",
   "metadata": {},
   "outputs": [
    {
     "name": "stdout",
     "output_type": "stream",
     "text": [
      "              precision    recall  f1-score   support\n",
      "\n",
      "          af       0.00      0.00      0.00         0\n",
      "          ar       1.00      0.99      1.00       159\n",
      "          bg       0.99      0.97      0.98       150\n",
      "          ca       0.00      0.00      0.00         0\n",
      "          cs       0.00      0.00      0.00         0\n",
      "          cy       0.00      0.00      0.00         0\n",
      "          da       0.00      0.00      0.00         0\n",
      "          de       0.98      0.99      0.99       152\n",
      "          el       1.00      0.99      1.00       168\n",
      "          en       1.00      0.97      0.98      2945\n",
      "          es       0.99      0.98      0.98       175\n",
      "          et       0.00      0.00      0.00         0\n",
      "          fr       0.91      1.00      0.95       157\n",
      "          hi       1.00      0.97      0.98       150\n",
      "          hr       0.00      0.00      0.00         0\n",
      "          id       0.00      0.00      0.00         0\n",
      "          it       0.00      0.00      0.00         0\n",
      "          ko       0.00      0.00      0.00         0\n",
      "          lv       0.00      0.00      0.00         0\n",
      "          mk       0.00      0.00      0.00         0\n",
      "          nl       0.00      0.00      0.00         0\n",
      "          no       0.00      0.00      0.00         0\n",
      "          pl       0.00      0.00      0.00         0\n",
      "          pt       0.00      0.00      0.00         0\n",
      "          ru       1.00      0.98      0.99       172\n",
      "          sk       0.00      0.00      0.00         0\n",
      "          sl       0.00      0.00      0.00         0\n",
      "          so       0.00      0.00      0.00         0\n",
      "          sv       0.00      0.00      0.00         0\n",
      "          sw       1.00      0.99      1.00       172\n",
      "          th       1.00      1.00      1.00       164\n",
      "          tl       0.00      0.00      0.00         0\n",
      "          tr       0.98      1.00      0.99       167\n",
      "          ur       1.00      0.96      0.98       168\n",
      "          vi       0.97      1.00      0.99       145\n",
      "          zh       0.00      0.00      0.00       151\n",
      "       zh-cn       0.00      0.00      0.00         0\n",
      "\n",
      "    accuracy                           0.95      5195\n",
      "   macro avg       0.37      0.37      0.37      5195\n",
      "weighted avg       0.96      0.95      0.96      5195\n",
      "\n"
     ]
    },
    {
     "name": "stderr",
     "output_type": "stream",
     "text": [
      "/home/simplon/.local/share/virtualenvs/lang-Uleg5wH7/lib/python3.9/site-packages/sklearn/metrics/_classification.py:1318: UndefinedMetricWarning: Precision and F-score are ill-defined and being set to 0.0 in labels with no predicted samples. Use `zero_division` parameter to control this behavior.\n",
      "  _warn_prf(average, modifier, msg_start, len(result))\n",
      "/home/simplon/.local/share/virtualenvs/lang-Uleg5wH7/lib/python3.9/site-packages/sklearn/metrics/_classification.py:1318: UndefinedMetricWarning: Recall and F-score are ill-defined and being set to 0.0 in labels with no true samples. Use `zero_division` parameter to control this behavior.\n",
      "  _warn_prf(average, modifier, msg_start, len(result))\n",
      "/home/simplon/.local/share/virtualenvs/lang-Uleg5wH7/lib/python3.9/site-packages/sklearn/metrics/_classification.py:1318: UndefinedMetricWarning: Precision and F-score are ill-defined and being set to 0.0 in labels with no predicted samples. Use `zero_division` parameter to control this behavior.\n",
      "  _warn_prf(average, modifier, msg_start, len(result))\n",
      "/home/simplon/.local/share/virtualenvs/lang-Uleg5wH7/lib/python3.9/site-packages/sklearn/metrics/_classification.py:1318: UndefinedMetricWarning: Recall and F-score are ill-defined and being set to 0.0 in labels with no true samples. Use `zero_division` parameter to control this behavior.\n",
      "  _warn_prf(average, modifier, msg_start, len(result))\n",
      "/home/simplon/.local/share/virtualenvs/lang-Uleg5wH7/lib/python3.9/site-packages/sklearn/metrics/_classification.py:1318: UndefinedMetricWarning: Precision and F-score are ill-defined and being set to 0.0 in labels with no predicted samples. Use `zero_division` parameter to control this behavior.\n",
      "  _warn_prf(average, modifier, msg_start, len(result))\n",
      "/home/simplon/.local/share/virtualenvs/lang-Uleg5wH7/lib/python3.9/site-packages/sklearn/metrics/_classification.py:1318: UndefinedMetricWarning: Recall and F-score are ill-defined and being set to 0.0 in labels with no true samples. Use `zero_division` parameter to control this behavior.\n",
      "  _warn_prf(average, modifier, msg_start, len(result))\n"
     ]
    }
   ],
   "source": [
    "from sklearn.metrics import classification_report\n",
    "\n",
    "print(classification_report(df[\"lang_abv\"], df['l_detect']))"
   ]
  },
  {
   "cell_type": "code",
   "execution_count": 52,
   "id": "48164011",
   "metadata": {},
   "outputs": [
    {
     "name": "stderr",
     "output_type": "stream",
     "text": [
      "/home/simplon/.local/share/virtualenvs/lang-Uleg5wH7/lib/python3.9/site-packages/sklearn/metrics/_classification.py:1318: UndefinedMetricWarning: Precision is ill-defined and being set to 0.0 in labels with no predicted samples. Use `zero_division` parameter to control this behavior.\n",
      "  _warn_prf(average, modifier, msg_start, len(result))\n"
     ]
    },
    {
     "data": {
      "text/plain": [
       "array([0.        , 1.        , 0.98648649, 0.        , 0.        ,\n",
       "       0.        , 0.        , 0.98051948, 1.        , 0.99929996,\n",
       "       0.98843931, 0.        , 0.90751445, 1.        , 0.        ,\n",
       "       0.        , 0.        , 0.        , 0.        , 0.        ,\n",
       "       0.        , 0.        , 0.        , 0.        , 1.        ,\n",
       "       0.        , 0.        , 0.        , 0.        , 1.        ,\n",
       "       1.        , 0.        , 0.97660819, 1.        , 0.97315436,\n",
       "       0.        , 0.        ])"
      ]
     },
     "execution_count": 52,
     "metadata": {},
     "output_type": "execute_result"
    }
   ],
   "source": [
    "from sklearn.metrics import precision_score\n",
    "\n",
    "precision_score(df[\"lang_abv\"], df['l_detect'], average=None)"
   ]
  },
  {
   "cell_type": "code",
   "execution_count": 55,
   "id": "bd39d80d",
   "metadata": {},
   "outputs": [
    {
     "data": {
      "text/plain": [
       "<AxesSubplot:>"
      ]
     },
     "execution_count": 55,
     "metadata": {},
     "output_type": "execute_result"
    },
    {
     "data": {
      "image/png": "[encoded data removed]",
      "text/plain": [
       "<Figure size 432x288 with 2 Axes>"
      ]
     },
     "metadata": {
      "needs_background": "light"
     },
     "output_type": "display_data"
    }
   ],
   "source": [
    "from sklearn.metrics import confusion_matrix, ConfusionMatrixDisplay\n",
    "import seaborn as sns\n",
    "import numpy as np\n",
    "\n",
    "cm = confusion_matrix(df[\"lang_abv\"], df['l_detect'])\n",
    "sns.heatmap(cm/np.sum(cm))"
   ]
  }
 ],
 "metadata": {
  "kernelspec": {
   "display_name": "Python 3 (ipykernel)",
   "language": "python",
   "name": "python3"
  },
  "language_info": {
   "codemirror_mode": {
    "name": "ipython",
    "version": 3
   },
   "file_extension": ".py",
   "mimetype": "text/x-python",
   "name": "python",
   "nbconvert_exporter": "python",
   "pygments_lexer": "ipython3",
   "version": "3.9.5"
  }
 },
 "nbformat": 4,
 "nbformat_minor": 5
}
