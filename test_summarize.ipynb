{
 "cells": [
  {
   "cell_type": "code",
   "execution_count": 1,
   "metadata": {},
   "outputs": [],
   "source": [
    "import os\n",
    "import requests\n",
    "from dotenv import load_dotenv"
   ]
  },
  {
   "cell_type": "code",
   "execution_count": 2,
   "metadata": {},
   "outputs": [],
   "source": [
    "load_dotenv()\n",
    "\n",
    "cog_endpoint = os.getenv(\"COG_SERVICE_ENDPOINT\")\n",
    "cog_key = os.getenv(\"COG_SERVICE_KEY\") "
   ]
  },
  {
   "cell_type": "code",
   "execution_count": 3,
   "metadata": {},
   "outputs": [],
   "source": [
    "key = cog_key\n",
    "endpoint = cog_endpoint"
   ]
  },
   ],
   "source": [
    "key"
   ]
  },
  {
   "cell_type": "code",
   "execution_count": 12,
   "metadata": {},
   "outputs": [],
   "source": [
    "from azure.core.credentials import AzureKeyCredential\n",
    "from azure.ai.textanalytics import TextAnalyticsClient\n",
    "endpoint = os.environ[\"COG_SERVICE_ENDPOINT\"]\n",
    "key = os.environ[\"COG_SERVICE_KEY\"]\n",
    "\n",
    "text_analytics_client = TextAnalyticsClient(\n",
    "        endpoint=endpoint,\n",
    "        credential=AzureKeyCredential(key),\n",
    "    )"
   ]
  },
  {
   "cell_type": "code",
   "execution_count": 16,
   "metadata": {},
   "outputs": [],
   "source": [
    "offre = [\n",
    "    '''Rejoignez une équipe dynamique et une entreprise innovante pour devenir notre prochain alternant H/F!\n",
    "Diplôme préparé :\n",
    "Ingénieur en Intelligence Artificielle DataScience ou cycle universitaire Master 2\n",
    "Description du poste :\n",
    "\n",
    "La Direction Régionale Provence Alpes du Sud d'Enedis héberge un laboratoire d'intelligence artificielle situé au sein de la Cité de l'Innovation et des Savoir d'Aix Marseille. Ce dernier a pour rôle le développement et le déploiement d'applications intégrant de l'IA.\n",
    "Au sein de l'équipe vous aurez la charge des chaînes d'intégration et de déploiement continu des applications développées dans une démarche MLOps (Machine Learning Operations).\n",
    "\n",
    "Votre mission consiste à :\n",
    "- Identifier les besoins et la problématique des utilisateurs finaux.\n",
    "- Concevoir les architectures.\n",
    "- Concevoir les chaines CI/CD.\n",
    "- Assurer le déploiement sur la plateforme Kubernetes.\n",
    "\n",
    "Pour en savoir plus, allez sur www.enedis.fr et consultez nos fiches et vidéos métiers :\n",
    " https://youtu.be/GI1k-MoJNkk\n",
    "www.enedis.fr/alternance et www.enedis.fr/découvrir-nos-métiers\n",
    "\n",
    "Avantages :\n",
    "- Aides financières sous conditions (logement, mutuelle, transports, permis, restauration méridienne au tarif le plus bas.)\n",
    "- Prime d'intéressement avec possibilité d'abondement\n",
    "- 30 jours de congés payés par an, (quel que soit le type de contrat) + 5 jours de congés accordés pour les révisions\n",
    "- Comité d'entreprise (vacances, culturel...)\n",
    "Diplômes demandés :\n",
    "Titulaire du Master 1 Ingénieur en Intelligence Artificielle DataScience ou cycle universitaire.\n",
    "\n",
    "Vos atouts :\n",
    "Vous avez des compétences en data science (Gitlab CI/CD, Docker, Kubernetes). Des connaissances en technologie IA (python, torch ...) seront également appréciées.\n",
    "Aisance relationnelle\n",
    "Sens des responsabilités\n",
    "Capacité d'adaptation\n",
    "Rigueur\n",
    "\n",
    "Merci de joindre à votre candidature votre CV, une lettre de motivation, ainsi que vos bulletins scolaires des 2 dernières années.\n",
    "\n",
    "Conformément aux engagements pris par Enedis en faveur de l'accueil et de l'intégration des personnes en situation de handicap, cet emploi est ouvert à toutes et à tous sous réserve de l'accord de la médecine du travail.'''\n",
    "]"
   ]
  },
  {
   "cell_type": "code",
   "execution_count": 27,
   "metadata": {},
   "outputs": [
    {
     "ename": "HTTPError",
     "evalue": "400 Client Error: Bad Request for url: https://francecentral.api.cognitive.microsoft.com/text/analytics/v3.2-preview.2/analyze",
     "output_type": "error",
     "traceback": [
      "\u001b[0;31m---------------------------------------------------------------------------\u001b[0m",
      "\u001b[0;31mHTTPError\u001b[0m                                 Traceback (most recent call last)",
      "\u001b[1;32m/home/marouan/Documents/FormationIA/git/projets/projet2_offres_emploi/projet-2-groupe-2/test_summarize.ipynb Cell 7'\u001b[0m in \u001b[0;36m<module>\u001b[0;34m\u001b[0m\n\u001b[1;32m     <a href='vscode-notebook-cell:/home/marouan/Documents/FormationIA/git/projets/projet2_offres_emploi/projet-2-groupe-2/test_summarize.ipynb#ch0000007?line=29'>30</a>\u001b[0m     data \u001b[39m=\u001b[39m response\u001b[39m.\u001b[39mjson()\n\u001b[1;32m     <a href='vscode-notebook-cell:/home/marouan/Documents/FormationIA/git/projets/projet2_offres_emploi/projet-2-groupe-2/test_summarize.ipynb#ch0000007?line=30'>31</a>\u001b[0m     \u001b[39mprint\u001b[39m (data)\n\u001b[0;32m---> <a href='vscode-notebook-cell:/home/marouan/Documents/FormationIA/git/projets/projet2_offres_emploi/projet-2-groupe-2/test_summarize.ipynb#ch0000007?line=33'>34</a>\u001b[0m summarize_text(offre)\n",
      "\u001b[1;32m/home/marouan/Documents/FormationIA/git/projets/projet2_offres_emploi/projet-2-groupe-2/test_summarize.ipynb Cell 7'\u001b[0m in \u001b[0;36msummarize_text\u001b[0;34m(text)\u001b[0m\n\u001b[1;32m      <a href='vscode-notebook-cell:/home/marouan/Documents/FormationIA/git/projets/projet2_offres_emploi/projet-2-groupe-2/test_summarize.ipynb#ch0000007?line=6'>7</a>\u001b[0m   params \u001b[39m=\u001b[39m {\u001b[39m\"\u001b[39m\u001b[39manalysisInput\u001b[39m\u001b[39m\"\u001b[39m: {\n\u001b[1;32m      <a href='vscode-notebook-cell:/home/marouan/Documents/FormationIA/git/projets/projet2_offres_emploi/projet-2-groupe-2/test_summarize.ipynb#ch0000007?line=7'>8</a>\u001b[0m   \u001b[39m\"\u001b[39m\u001b[39mdocuments\u001b[39m\u001b[39m\"\u001b[39m: [\n\u001b[1;32m      <a href='vscode-notebook-cell:/home/marouan/Documents/FormationIA/git/projets/projet2_offres_emploi/projet-2-groupe-2/test_summarize.ipynb#ch0000007?line=8'>9</a>\u001b[0m     {\n\u001b[0;32m   (...)\u001b[0m\n\u001b[1;32m     <a href='vscode-notebook-cell:/home/marouan/Documents/FormationIA/git/projets/projet2_offres_emploi/projet-2-groupe-2/test_summarize.ipynb#ch0000007?line=24'>25</a>\u001b[0m   ]\n\u001b[1;32m     <a href='vscode-notebook-cell:/home/marouan/Documents/FormationIA/git/projets/projet2_offres_emploi/projet-2-groupe-2/test_summarize.ipynb#ch0000007?line=25'>26</a>\u001b[0m }}\n\u001b[1;32m     <a href='vscode-notebook-cell:/home/marouan/Documents/FormationIA/git/projets/projet2_offres_emploi/projet-2-groupe-2/test_summarize.ipynb#ch0000007?line=27'>28</a>\u001b[0m   response \u001b[39m=\u001b[39m requests\u001b[39m.\u001b[39mpost(url, json\u001b[39m=\u001b[39mparams, headers\u001b[39m=\u001b[39mheaders)\n\u001b[0;32m---> <a href='vscode-notebook-cell:/home/marouan/Documents/FormationIA/git/projets/projet2_offres_emploi/projet-2-groupe-2/test_summarize.ipynb#ch0000007?line=28'>29</a>\u001b[0m   response\u001b[39m.\u001b[39;49mraise_for_status()\n\u001b[1;32m     <a href='vscode-notebook-cell:/home/marouan/Documents/FormationIA/git/projets/projet2_offres_emploi/projet-2-groupe-2/test_summarize.ipynb#ch0000007?line=29'>30</a>\u001b[0m   data \u001b[39m=\u001b[39m response\u001b[39m.\u001b[39mjson()\n\u001b[1;32m     <a href='vscode-notebook-cell:/home/marouan/Documents/FormationIA/git/projets/projet2_offres_emploi/projet-2-groupe-2/test_summarize.ipynb#ch0000007?line=30'>31</a>\u001b[0m   \u001b[39mprint\u001b[39m (data)\n",
      "File \u001b[0;32m~/.local/share/virtualenvs/projet-2-groupe-2-Yb6JxiBk/lib/python3.8/site-packages/requests/models.py:960\u001b[0m, in \u001b[0;36mResponse.raise_for_status\u001b[0;34m(self)\u001b[0m\n\u001b[1;32m    <a href='file:///~/.local/share/virtualenvs/projet-2-groupe-2-Yb6JxiBk/lib/python3.8/site-packages/requests/models.py?line=956'>957</a>\u001b[0m     http_error_msg \u001b[39m=\u001b[39m \u001b[39mu\u001b[39m\u001b[39m'\u001b[39m\u001b[39m%s\u001b[39;00m\u001b[39m Server Error: \u001b[39m\u001b[39m%s\u001b[39;00m\u001b[39m for url: \u001b[39m\u001b[39m%s\u001b[39;00m\u001b[39m'\u001b[39m \u001b[39m%\u001b[39m (\u001b[39mself\u001b[39m\u001b[39m.\u001b[39mstatus_code, reason, \u001b[39mself\u001b[39m\u001b[39m.\u001b[39murl)\n\u001b[1;32m    <a href='file:///~/.local/share/virtualenvs/projet-2-groupe-2-Yb6JxiBk/lib/python3.8/site-packages/requests/models.py?line=958'>959</a>\u001b[0m \u001b[39mif\u001b[39;00m http_error_msg:\n\u001b[0;32m--> <a href='file:///~/.local/share/virtualenvs/projet-2-groupe-2-Yb6JxiBk/lib/python3.8/site-packages/requests/models.py?line=959'>960</a>\u001b[0m     \u001b[39mraise\u001b[39;00m HTTPError(http_error_msg, response\u001b[39m=\u001b[39m\u001b[39mself\u001b[39m)\n",
      "\u001b[0;31mHTTPError\u001b[0m: 400 Client Error: Bad Request for url: https://francecentral.api.cognitive.microsoft.com/text/analytics/v3.2-preview.2/analyze"
     ]
    }
   ],
   "source": [
    "def summarize_text(text: str):\n",
    "    url = endpoint + \"text/analytics/v3.2-preview.2/analyze\"\n",
    "    \n",
    "    headers = {'Ocp-Apim-Subscription-Key': key,\n",
    "               'Content-Type': 'application/json'}\n",
    "    \n",
    "    params = {\"analysisInput\": {\n",
    "    \"documents\": [\n",
    "      {\n",
    "        \"language\": \"fr\",\n",
    "        \"id\": \"1\",\n",
    "        \"text\": text\n",
    "      }\n",
    "    ]\n",
    "  },\n",
    "  \"tasks\": {\n",
    "    \"extractiveSummarizationTasks\": [\n",
    "      {\n",
    "        \"parameters\": {\n",
    "          \"model-version\": \"latest\",\n",
    "          \"sentenceCount\": 3,\n",
    "          \"sortBy\": \"Offset\"\n",
    "        }\n",
    "      }\n",
    "    ]\n",
    "  }}\n",
    "    \n",
    "    response = requests.post(url, json=params, headers=headers)\n",
    "    response.raise_for_status()\n",
    "    data = response.json()\n",
    "    print (data)\n",
    "\n",
    "\n",
    "summarize_text(offre)"
   ]
  }
 ],
 "metadata": {
  "interpreter": {
   "hash": "bb35fe958b7c17f9d357d08441ec3009fc2cf7df63643660549a61ee4ef4ca50"
  },
  "kernelspec": {
   "display_name": "Python 3.8.10 ('projet-2-groupe-2-Yb6JxiBk')",
   "language": "python",
   "name": "python3"
  },
  "language_info": {
   "codemirror_mode": {
    "name": "ipython",
    "version": 3
   },
   "file_extension": ".py",
   "mimetype": "text/x-python",
   "name": "python",
   "nbconvert_exporter": "python",
   "pygments_lexer": "ipython3",
   "version": "3.8.10"
  },
  "orig_nbformat": 4
 },
 "nbformat": 4,
 "nbformat_minor": 2
}
