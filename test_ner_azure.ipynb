{
 "cells": [
  {
   "cell_type": "code",
   "execution_count": 6,
   "metadata": {},
   "outputs": [],
   "source": [
    "import os\n",
    "import requests\n",
    "from dotenv import load_dotenv"
   ]
  },
  {
   "cell_type": "code",
   "execution_count": 7,
   "metadata": {},
   "outputs": [],
   "source": [
    "load_dotenv()\n",
    "\n",
    "cog_endpoint = os.getenv(\"COG_SERVICE_ENDPOINT\")\n",
    "cog_key = os.getenv(\"COG_SERVICE_KEY\") "
   ]
  },
  {
   "cell_type": "code",
   "execution_count": 8,
   "metadata": {},
   "outputs": [
    {
     "name": "stdout",
     "output_type": "stream",
     "text": [
      "47f4be7690074623a03cb6ec0b90343a\n"
     ]
    }
   ],
   "source": [
    "print(cog_key)"
   ]
  },
  {
   "cell_type": "markdown",
   "metadata": {},
   "source": [
    "### Authentification"
   ]
  },
  {
   "cell_type": "code",
   "execution_count": 13,
   "metadata": {},
   "outputs": [],
   "source": [
    "key = cog_key\n",
    "endpoint = cog_endpoint\n",
    "\n",
    "from azure.ai.textanalytics import TextAnalyticsClient\n",
    "from azure.core.credentials import AzureKeyCredential\n",
    "\n",
    "# Authenticate the client using your key and endpoint \n",
    "def authenticate_client():\n",
    "    ta_credential = AzureKeyCredential(key)\n",
    "    text_analytics_client = TextAnalyticsClient(\n",
    "            endpoint=endpoint, \n",
    "            credential=ta_credential)\n",
    "    return text_analytics_client\n",
    "\n",
    "client = authenticate_client()\n"
   ]
  },
  {
   "cell_type": "markdown",
   "metadata": {},
   "source": [
    "### Import des CV"
   ]
  },
  {
   "cell_type": "code",
   "execution_count": 22,
   "metadata": {},
   "outputs": [],
   "source": [
    "import pdfplumber\n",
    "\n",
    "\n",
    "with pdfplumber.open('Cv_Marouan_Boulli_DevIA (1).pdf') as pdf:\n",
    "    text_Marouan = \"\".join(page.extract_text() for page in pdf.pages)\n",
    "    \n",
    "\n",
    "with pdfplumber.open('Cv_Aissa.pdf') as pdf:\n",
    "    text_Aissa = \"\".join(page.extract_text() for page in pdf.pages)\n",
    "    \n",
    "\n",
    "with pdfplumber.open('CV_Modifie_Nolan_1.pdf') as pdf:\n",
    "    text_Nolan = \"\".join(page.extract_text() for page in pdf.pages)\n",
    "    \n",
    "\n",
    "with pdfplumber.open('Cv_ThienVu.pdf') as pdf:\n",
    "    text_Thienvu = \"\".join(page.extract_text() for page in pdf.pages)\n",
    "    \n",
    "\n",
    "with pdfplumber.open('CV_Gabriel_CAFERRA_Dev_Data_Junior.pdf') as pdf:\n",
    "    text_Gabriel = \"\".join(page.extract_text() for page in pdf.pages)\n",
    "    "
   ]
  },
  {
   "cell_type": "markdown",
   "metadata": {},
   "source": [
    "### Appel API"
   ]
  },
  {
   "cell_type": "code",
   "execution_count": 23,
   "metadata": {},
   "outputs": [],
   "source": [
    "# Example function for recognizing entities from text\n",
    "def entity_recognition_example(client):\n",
    "\n",
    "    try:\n",
    "        documents = [\n",
    "            {\n",
    "            \"id\": \"1\",\n",
    "            \"language\": \"fr\",\n",
    "            \"text\": text_Marouan,\n",
    "            },\n",
    "            {\n",
    "            \"id\": \"2\",\n",
    "            \"language\": \"fr\",\n",
    "            \"text\": text_Aissa,\n",
    "            },\n",
    "            {\n",
    "            \"id\": \"3\",\n",
    "            \"language\": \"fr\",\n",
    "            \"text\": text_Nolan,\n",
    "            },\n",
    "            {\n",
    "            \"id\": \"4\",\n",
    "            \"language\": \"fr\",\n",
    "            \"text\": text_Thienvu,\n",
    "            },\n",
    "            {\n",
    "            \"id\": \"5\",\n",
    "            \"language\": \"fr\",\n",
    "            \"text\": text_Gabriel,\n",
    "            }\n",
    "        ]\n",
    "            \n",
    "        \n",
    "        \n",
    "        result = client.recognize_entities(documents = documents)\n",
    "        \n",
    "\n",
    "        #print(\"Named Entities:\\n\")\n",
    "        \n",
    "        result_dict = {\"resultats\": []}\n",
    "        i = 1\n",
    "        for doc in result:\n",
    "            doc_result = {\n",
    "                    \"id\": f\"{i}\",\n",
    "                    \"results\": []\n",
    "                }\n",
    "            for entity in doc.entities:\n",
    "                #print(\"\\tText: \\t\", entity.text, \"\\tCategory: \\t\", entity.category, \"\\tSubCategory: \\t\", entity.subcategory,\n",
    "                    #\"\\n\\tConfidence Score: \\t\", round(entity.confidence_score, 2), \"\\tLength: \\t\", entity.length, \"\\tOffset: \\t\", entity.offset, \"\\n\") # Convertir en dico\n",
    "                \n",
    "                res = {}\n",
    "                \n",
    "                res['text'] = entity.text\n",
    "                res['category'] = entity.category\n",
    "                res['subcategory'] = entity.subcategory\n",
    "                res['confidence_score'] = entity.confidence_score\n",
    "                res['length'] = entity.length\n",
    "                res['offset'] = entity.offset\n",
    "                doc_result[\"results\"].append(res)\n",
    "                \n",
    "            result_dict[\"resultats\"].append(doc_result)\n",
    "            i += 1\n",
    "\n",
    "    except Exception as err:\n",
    "        print(\"Encountered exception. {}\".format(err))\n",
    "    \n",
    "    return result_dict\n"
   ]
  },
  {
   "cell_type": "markdown",
   "metadata": {},
   "source": [
    "### Stockage résultats fichier json"
   ]
  },
  {
   "cell_type": "code",
   "execution_count": 24,
   "metadata": {},
   "outputs": [
    {
     "name": "stdout",
     "output_type": "stream",
     "text": [
      "Named Entities:\n",
      "\n"
     ]
    }
   ],
   "source": [
    "import json\n",
    "\n",
    "dic = entity_recognition_example(client)\n",
    "with open('res_test_ner.json','w') as file:\n",
    "    json.dump(dic,file)"
   ]
  }
 ],
 "metadata": {
  "interpreter": {
   "hash": "bb35fe958b7c17f9d357d08441ec3009fc2cf7df63643660549a61ee4ef4ca50"
  },
  "kernelspec": {
   "display_name": "Python 3.8.10 ('projet-2-groupe-2-Yb6JxiBk')",
   "language": "python",
   "name": "python3"
  },
  "language_info": {
   "codemirror_mode": {
    "name": "ipython",
    "version": 3
   },
   "file_extension": ".py",
   "mimetype": "text/x-python",
   "name": "python",
   "nbconvert_exporter": "python",
   "pygments_lexer": "ipython3",
   "version": "3.8.10"
  },
  "orig_nbformat": 4
 },
 "nbformat": 4,
 "nbformat_minor": 2
}
