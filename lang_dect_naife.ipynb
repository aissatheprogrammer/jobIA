{
 "cells": [
  {
   "cell_type": "code",
   "execution_count": 1,
   "id": "d5599ee2",
   "metadata": {},
   "outputs": [
    {
     "name": "stdout",
     "output_type": "stream",
     "text": [
      "Making request with params {'range': '0-149', 'motsCles': ['data', 'IA', 'machine learning']}\n",
      "Token has not been requested yet. Requesting token\n",
      "Now requesting token\n",
      "Making request with params {'range': '150-299', 'motsCles': ['data', 'IA', 'machine learning']}\n",
      "Making request with params {'range': '300-449', 'motsCles': ['data', 'IA', 'machine learning']}\n",
      "Making request with params {'range': '450-599', 'motsCles': ['data', 'IA', 'machine learning']}\n",
      "Making request with params {'range': '600-749', 'motsCles': ['data', 'IA', 'machine learning']}\n",
      "Making request with params {'range': '750-899', 'motsCles': ['data', 'IA', 'machine learning']}\n",
      "Making request with params {'range': '900-1049', 'motsCles': ['data', 'IA', 'machine learning']}\n"
     ]
    }
   ],
   "source": [
    "from language_detection import df"
   ]
  },
  {
   "cell_type": "code",
   "execution_count": 2,
   "id": "d07af318",
   "metadata": {},
   "outputs": [
    {
     "name": "stdout",
     "output_type": "stream",
     "text": [
      "<class 'pandas.core.frame.DataFrame'>\n",
      "RangeIndex: 1050 entries, 0 to 1049\n",
      "Data columns (total 21 columns):\n",
      " #   Column                Non-Null Count  Dtype         \n",
      "---  ------                --------------  -----         \n",
      " 0   intitule              1050 non-null   object        \n",
      " 1   description           1050 non-null   object        \n",
      " 2   dateCreation          1050 non-null   datetime64[ns]\n",
      " 3   dateActualisation     1050 non-null   datetime64[ns]\n",
      " 4   nomLieuTravail        1050 non-null   object        \n",
      " 5   latitudeLieuTravail   1050 non-null   object        \n",
      " 6   longitudeLieuTravail  1050 non-null   object        \n",
      " 7   entreprise            1050 non-null   object        \n",
      " 8   typeContrat           1050 non-null   object        \n",
      " 9   experienceExigee      1050 non-null   object        \n",
      " 10  competences           1050 non-null   object        \n",
      " 11  salaire               1050 non-null   object        \n",
      " 12  dureeTravail          1050 non-null   object        \n",
      " 13  rythmeTravail         1050 non-null   object        \n",
      " 14  alternance            1050 non-null   bool          \n",
      " 15  nomContact            1050 non-null   object        \n",
      " 16  qualification         1050 non-null   object        \n",
      " 17  secteurActivite       1050 non-null   object        \n",
      " 18  qualitesPro           1050 non-null   object        \n",
      " 19  origineOffre          1050 non-null   object        \n",
      " 20  lang_detect           1050 non-null   object        \n",
      "dtypes: bool(1), datetime64[ns](2), object(18)\n",
      "memory usage: 165.2+ KB\n"
     ]
    }
   ],
   "source": [
    "df.info()"
   ]
  },
  {
   "cell_type": "code",
   "execution_count": 3,
   "id": "4bbd16f6",
   "metadata": {
    "scrolled": false
   },
   "outputs": [],
   "source": [
    "frequent_words = open(\"1-1000.txt\", \"r\")\n",
    "\n",
    "lis = ['hello']\n",
    "\n",
    "for line in frequent_words:\n",
    "  lis.append(line.strip())\n",
    "\n",
    "frequent_words.close()\n",
    " \n",
    "lis.remove('a')"
   ]
  },
  {
   "cell_type": "code",
   "execution_count": 4,
   "id": "6ef87d2d",
   "metadata": {},
   "outputs": [
    {
     "data": {
      "text/html": [
       "<div>\n",
       "<style scoped>\n",
       "    .dataframe tbody tr th:only-of-type {\n",
       "        vertical-align: middle;\n",
       "    }\n",
       "\n",
       "    .dataframe tbody tr th {\n",
       "        vertical-align: top;\n",
       "    }\n",
       "\n",
       "    .dataframe thead th {\n",
       "        text-align: right;\n",
       "    }\n",
       "</style>\n",
       "<table border=\"1\" class=\"dataframe\">\n",
       "  <thead>\n",
       "    <tr style=\"text-align: right;\">\n",
       "      <th></th>\n",
       "      <th>description</th>\n",
       "      <th>lang_detect</th>\n",
       "    </tr>\n",
       "  </thead>\n",
       "  <tbody>\n",
       "    <tr>\n",
       "      <th>0</th>\n",
       "      <td>Recherche: CONSULTANT MASTER DATA MANAGEMENT (...</td>\n",
       "      <td>fr</td>\n",
       "    </tr>\n",
       "    <tr>\n",
       "      <th>1</th>\n",
       "      <td>Recherche: CONSULTANT. E DATA MARKETING CONFIR...</td>\n",
       "      <td>fr</td>\n",
       "    </tr>\n",
       "    <tr>\n",
       "      <th>2</th>\n",
       "      <td>Recherche: DATA ANALYST EXPÉRIMENTÉ (H/F)\\nNot...</td>\n",
       "      <td>fr</td>\n",
       "    </tr>\n",
       "    <tr>\n",
       "      <th>3</th>\n",
       "      <td>Recherche: RESPONSABLE DU PÔLE DATA MANAGEMENT...</td>\n",
       "      <td>fr</td>\n",
       "    </tr>\n",
       "    <tr>\n",
       "      <th>4</th>\n",
       "      <td>Recherche: CONSULTANT ARCHITECTE BIG DATA (H/F...</td>\n",
       "      <td>fr</td>\n",
       "    </tr>\n",
       "    <tr>\n",
       "      <th>...</th>\n",
       "      <td>...</td>\n",
       "      <td>...</td>\n",
       "    </tr>\n",
       "    <tr>\n",
       "      <th>1045</th>\n",
       "      <td>Bonjour, nous c'est REDLab !\\nPure Player data...</td>\n",
       "      <td>fr</td>\n",
       "    </tr>\n",
       "    <tr>\n",
       "      <th>1046</th>\n",
       "      <td>Le département SEQUOIA recherche aujourd'hui u...</td>\n",
       "      <td>fr</td>\n",
       "    </tr>\n",
       "    <tr>\n",
       "      <th>1047</th>\n",
       "      <td>Vous souhaitez intégrer une communauté d'exper...</td>\n",
       "      <td>fr</td>\n",
       "    </tr>\n",
       "    <tr>\n",
       "      <th>1048</th>\n",
       "      <td>Première entreprise publique d'eau en France, ...</td>\n",
       "      <td>fr</td>\n",
       "    </tr>\n",
       "    <tr>\n",
       "      <th>1049</th>\n",
       "      <td>Dans le cadre de son développement, SFA, ...</td>\n",
       "      <td>fr</td>\n",
       "    </tr>\n",
       "  </tbody>\n",
       "</table>\n",
       "<p>1050 rows × 2 columns</p>\n",
       "</div>"
      ],
      "text/plain": [
       "                                            description lang_detect\n",
       "0     Recherche: CONSULTANT MASTER DATA MANAGEMENT (...          fr\n",
       "1     Recherche: CONSULTANT. E DATA MARKETING CONFIR...          fr\n",
       "2     Recherche: DATA ANALYST EXPÉRIMENTÉ (H/F)\\nNot...          fr\n",
       "3     Recherche: RESPONSABLE DU PÔLE DATA MANAGEMENT...          fr\n",
       "4     Recherche: CONSULTANT ARCHITECTE BIG DATA (H/F...          fr\n",
       "...                                                 ...         ...\n",
       "1045  Bonjour, nous c'est REDLab !\\nPure Player data...          fr\n",
       "1046  Le département SEQUOIA recherche aujourd'hui u...          fr\n",
       "1047  Vous souhaitez intégrer une communauté d'exper...          fr\n",
       "1048  Première entreprise publique d'eau en France, ...          fr\n",
       "1049       Dans le cadre de son développement, SFA, ...          fr\n",
       "\n",
       "[1050 rows x 2 columns]"
      ]
     },
     "execution_count": 4,
     "metadata": {},
     "output_type": "execute_result"
    }
   ],
   "source": [
    "df = df[['description', 'lang_detect']]\n",
    "\n",
    "df"
   ]
  },
  {
   "cell_type": "code",
   "execution_count": 5,
   "id": "82106441",
   "metadata": {},
   "outputs": [
    {
     "name": "stderr",
     "output_type": "stream",
     "text": [
      "/tmp/ipykernel_47754/3583003701.py:2: SettingWithCopyWarning: \n",
      "A value is trying to be set on a copy of a slice from a DataFrame\n",
      "\n",
      "See the caveats in the documentation: https://pandas.pydata.org/pandas-docs/stable/user_guide/indexing.html#returning-a-view-versus-a-copy\n",
      "  df.loc[df[\"lang_detect\"]==\"fr\",'lang_detect']='True'\n"
     ]
    }
   ],
   "source": [
    "# Changing fr in True in lang_detect column\n",
    "df.loc[df[\"lang_detect\"]==\"fr\",'lang_detect']='True'"
   ]
  },
  {
   "cell_type": "code",
   "execution_count": 14,
   "id": "d43f75c0",
   "metadata": {},
   "outputs": [
    {
     "data": {
      "text/plain": [
       "True    1050\n",
       "Name: lang_detect, dtype: int64"
      ]
     },
     "execution_count": 14,
     "metadata": {},
     "output_type": "execute_result"
    }
   ],
   "source": [
    "df['lang_detect'].value_counts()"
   ]
  },
  {
   "cell_type": "code",
   "execution_count": 28,
   "id": "b0defea2",
   "metadata": {},
   "outputs": [],
   "source": [
    "# model naif if more than n common english words it's not english\n",
    "def lang_dec(user):\n",
    "    count = 0\n",
    "    for word in user.split():\n",
    "        if word.lower() in lis:\n",
    "            count += 1\n",
    "        else:\n",
    "            continue\n",
    "    return 'True' if count > 0 else 'False'\n"
   ]
  },
  {
   "cell_type": "code",
   "execution_count": 29,
   "id": "a8d052ca",
   "metadata": {},
   "outputs": [],
   "source": [
    "# prediction with naife model\n",
    "y_pred = df.apply(lambda row: lang_dec(row[\"description\"]), axis=1)"
   ]
  },
  {
   "cell_type": "code",
   "execution_count": 30,
   "id": "076dd4d2",
   "metadata": {},
   "outputs": [
    {
     "data": {
      "text/plain": [
       "True     915\n",
       "False    135\n",
       "dtype: int64"
      ]
     },
     "execution_count": 30,
     "metadata": {},
     "output_type": "execute_result"
    }
   ],
   "source": [
    "y_pred.value_counts()"
   ]
  },
  {
   "cell_type": "code",
   "execution_count": 32,
   "id": "49cd6766",
   "metadata": {},
   "outputs": [
    {
     "name": "stdout",
     "output_type": "stream",
     "text": [
      "              precision    recall  f1-score   support\n",
      "\n",
      "       False       0.00      0.00      0.00         0\n",
      "        True       1.00      0.87      0.93      1050\n",
      "\n",
      "    accuracy                           0.87      1050\n",
      "   macro avg       0.50      0.44      0.47      1050\n",
      "weighted avg       1.00      0.87      0.93      1050\n",
      "\n"
     ]
    },
    {
     "name": "stderr",
     "output_type": "stream",
     "text": [
      "/home/simplon/.local/share/virtualenvs/null-cqAid68M/lib/python3.9/site-packages/sklearn/metrics/_classification.py:1318: UndefinedMetricWarning: Recall and F-score are ill-defined and being set to 0.0 in labels with no true samples. Use `zero_division` parameter to control this behavior.\n",
      "  _warn_prf(average, modifier, msg_start, len(result))\n",
      "/home/simplon/.local/share/virtualenvs/null-cqAid68M/lib/python3.9/site-packages/sklearn/metrics/_classification.py:1318: UndefinedMetricWarning: Recall and F-score are ill-defined and being set to 0.0 in labels with no true samples. Use `zero_division` parameter to control this behavior.\n",
      "  _warn_prf(average, modifier, msg_start, len(result))\n",
      "/home/simplon/.local/share/virtualenvs/null-cqAid68M/lib/python3.9/site-packages/sklearn/metrics/_classification.py:1318: UndefinedMetricWarning: Recall and F-score are ill-defined and being set to 0.0 in labels with no true samples. Use `zero_division` parameter to control this behavior.\n",
      "  _warn_prf(average, modifier, msg_start, len(result))\n"
     ]
    }
   ],
   "source": [
    "from sklearn.metrics import classification_report\n",
    "\n",
    "print(classification_report(df['lang_detect'], y_pred))"
   ]
  }
 ],
 "metadata": {
  "kernelspec": {
   "display_name": "Python 3 (ipykernel)",
   "language": "python",
   "name": "python3"
  },
  "language_info": {
   "codemirror_mode": {
    "name": "ipython",
    "version": 3
   },
   "file_extension": ".py",
   "mimetype": "text/x-python",
   "name": "python",
   "nbconvert_exporter": "python",
   "pygments_lexer": "ipython3",
   "version": "3.9.5"
  }
 },
 "nbformat": 4,
 "nbformat_minor": 5
}
